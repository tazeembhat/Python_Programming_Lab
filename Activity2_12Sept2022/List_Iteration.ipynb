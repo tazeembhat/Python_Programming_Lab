{
 "cells": [
  {
   "cell_type": "markdown",
   "id": "3a4c2729",
   "metadata": {},
   "source": [
    "<div class=\"alert alert-block alert-info\">\n",
    "Notebook Created By: Tazeem Nazir\n",
    "</div>"
   ]
  },
  {
   "cell_type": "markdown",
   "id": "1d578c25",
   "metadata": {},
   "source": [
    "## LIST:\n",
    "Lists are the most versatile data type in Python. A list consist of items separated by commas and enclosed within square brackets ([ ]). List are similar to arrays. The only difference in an array and list is that, while array contains values of same data type, a list on the other hand, can have values belonging to different types. List are mutable."
   ]
  },
  {
   "cell_type": "markdown",
   "id": "5ffb11cd",
   "metadata": {},
   "source": [
    "There are multiple ways to iterate over a list:\n",
    "- **Using For Loop:**"
   ]
  },
  {
   "cell_type": "code",
   "execution_count": 22,
   "id": "129b1cb6",
   "metadata": {},
   "outputs": [
    {
     "name": "stdout",
     "output_type": "stream",
     "text": [
      "1 2 3 4 5 "
     ]
    }
   ],
   "source": [
    "list1 = [1, 2, 3, 4, 5]\n",
    "for i in list1:\n",
    "    print(i, end=\" \")"
   ]
  },
  {
   "cell_type": "markdown",
   "id": "e4f0986f",
   "metadata": {},
   "source": [
    "- **Using for loop and range():**"
   ]
  },
  {
   "cell_type": "code",
   "execution_count": 23,
   "id": "6f4c302a",
   "metadata": {},
   "outputs": [
    {
     "name": "stdout",
     "output_type": "stream",
     "text": [
      "1 3 5 7 9 "
     ]
    }
   ],
   "source": [
    "list2 = [1, 3, 5, 7, 9]\n",
    "length = len(list2)\n",
    "for i in range(length):\n",
    "    print(list2[i], end=\" \")"
   ]
  },
  {
   "cell_type": "markdown",
   "id": "3206ed10",
   "metadata": {},
   "source": [
    "- **Using while loop:**"
   ]
  },
  {
   "cell_type": "code",
   "execution_count": 24,
   "id": "928fdfc4",
   "metadata": {},
   "outputs": [
    {
     "name": "stdout",
     "output_type": "stream",
     "text": [
      "A B C D E "
     ]
    }
   ],
   "source": [
    "list3 = ['A', 'B', 'C', 'D', 'E']\n",
    "length = len(list3)\n",
    "i = 0\n",
    "while i < length:\n",
    "    print(list3[i], end=\" \")\n",
    "    i += 1"
   ]
  },
  {
   "cell_type": "markdown",
   "id": "4d0a36aa",
   "metadata": {},
   "source": [
    "- **Using list comprehension:** A Python list comprehension consists of brackets containing the expression, which is executed for each element along with the for loop to iterate over each element in the Python list."
   ]
  },
  {
   "cell_type": "markdown",
   "id": "ac845a6f",
   "metadata": {},
   "source": [
    "**Advantages of List Comprehension:**\n",
    "- More time-efficient and space-efficient than loops.\n",
    "- Require fewer lines of code.\n",
    "- Transforms iterative statement into a formula."
   ]
  },
  {
   "cell_type": "code",
   "execution_count": 21,
   "id": "927722ed",
   "metadata": {},
   "outputs": [
    {
     "name": "stdout",
     "output_type": "stream",
     "text": [
      "a b c d e "
     ]
    },
    {
     "data": {
      "text/plain": [
       "[None, None, None, None, None]"
      ]
     },
     "execution_count": 21,
     "metadata": {},
     "output_type": "execute_result"
    }
   ],
   "source": [
    "list4 = ['a', 'b', 'c', 'd', 'e']\n",
    "[print(i, end=\" \") for i in list4]"
   ]
  },
  {
   "cell_type": "code",
   "execution_count": null,
   "id": "0ac99d79",
   "metadata": {},
   "outputs": [],
   "source": []
  }
 ],
 "metadata": {
  "kernelspec": {
   "display_name": "Python 3 (ipykernel)",
   "language": "python",
   "name": "python3"
  },
  "language_info": {
   "codemirror_mode": {
    "name": "ipython",
    "version": 3
   },
   "file_extension": ".py",
   "mimetype": "text/x-python",
   "name": "python",
   "nbconvert_exporter": "python",
   "pygments_lexer": "ipython3",
   "version": "3.10.2"
  }
 },
 "nbformat": 4,
 "nbformat_minor": 5
}
