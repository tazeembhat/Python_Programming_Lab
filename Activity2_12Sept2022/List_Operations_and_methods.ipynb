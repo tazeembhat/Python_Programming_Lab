{
 "cells": [
  {
   "cell_type": "markdown",
   "id": "8376c20b",
   "metadata": {},
   "source": [
    "<div class=\"alert alert-block alert-info\">\n",
    "Notebook Created By: Tazeem Nazir\n",
    "</div>"
   ]
  },
  {
   "cell_type": "code",
   "execution_count": 44,
   "id": "d06a3307",
   "metadata": {},
   "outputs": [
    {
     "name": "stdout",
     "output_type": "stream",
     "text": [
      "2\n"
     ]
    }
   ],
   "source": [
    "# Accessing elements\n",
    "list1 = [1, 2, 3, 4, 5]\n",
    "\n",
    "print(list1[1])"
   ]
  },
  {
   "cell_type": "code",
   "execution_count": 45,
   "id": "18907352",
   "metadata": {},
   "outputs": [
    {
     "name": "stdout",
     "output_type": "stream",
     "text": [
      "[1, 2, 3, 4, 5, 6, 7, 8]\n"
     ]
    }
   ],
   "source": [
    "# Merging two lists \n",
    "list1 = [1, 2, 3, 4, 5]\n",
    "list2 = [6, 7, 8]\n",
    "list3 = list1 + list2\n",
    "print(list3)"
   ]
  },
  {
   "cell_type": "code",
   "execution_count": 46,
   "id": "0ae787c4",
   "metadata": {},
   "outputs": [
    {
     "name": "stdout",
     "output_type": "stream",
     "text": [
      "[3, 4, 5, 6]\n"
     ]
    }
   ],
   "source": [
    "# Slicing\n",
    "list3 = [1, 2, 3, 4, 5, 6, 7, 8]\n",
    "print(list3[2:6])"
   ]
  },
  {
   "cell_type": "code",
   "execution_count": 47,
   "id": "a440ffa9",
   "metadata": {},
   "outputs": [
    {
     "name": "stdout",
     "output_type": "stream",
     "text": [
      "['A', 'B', 'C', 4, 5, 6, 7, 8]\n"
     ]
    }
   ],
   "source": [
    "# Updation\n",
    "list3[0:3] = ['A', 'B', 'C']\n",
    "print(list3)"
   ]
  },
  {
   "cell_type": "code",
   "execution_count": 48,
   "id": "d03b6c5c",
   "metadata": {},
   "outputs": [
    {
     "name": "stdout",
     "output_type": "stream",
     "text": [
      "['A', 'B', 'C', 5, 6, 7, 8]\n"
     ]
    }
   ],
   "source": [
    "# Deleting elements\n",
    "del(list3[3])\n",
    "print(list3)"
   ]
  },
  {
   "cell_type": "markdown",
   "id": "94574992",
   "metadata": {},
   "source": [
    "## List Methods:"
   ]
  },
  {
   "cell_type": "markdown",
   "id": "cc12fca0",
   "metadata": {},
   "source": [
    "- **append():** adds a single element at the end of the list."
   ]
  },
  {
   "cell_type": "code",
   "execution_count": 15,
   "id": "25d4eeff",
   "metadata": {},
   "outputs": [
    {
     "name": "stdout",
     "output_type": "stream",
     "text": [
      "[1, 2, 3, 4, 5, 6]\n"
     ]
    }
   ],
   "source": [
    "list1 = [1, 2, 3, 4, 5]\n",
    "list1.append(6)\n",
    "print(list1)"
   ]
  },
  {
   "cell_type": "markdown",
   "id": "e204d6b6",
   "metadata": {},
   "source": [
    "- **insert():** inserts the element at the given index, shifting elements to the right."
   ]
  },
  {
   "cell_type": "code",
   "execution_count": 18,
   "id": "43a8d8f0",
   "metadata": {},
   "outputs": [
    {
     "name": "stdout",
     "output_type": "stream",
     "text": [
      "Before Insertion:  [1, 2, 3, 4]\n",
      "After Insertion:  [1, 2, 'A', 3, 4]\n"
     ]
    }
   ],
   "source": [
    "list2 = [1, 2, 3, 4]\n",
    "print('Before Insertion: ', list2)\n",
    "list2.insert(2, 'A')\n",
    "print('After Insertion: ', list2)"
   ]
  },
  {
   "cell_type": "markdown",
   "id": "bfe76f0e",
   "metadata": {},
   "source": [
    "- **extend():** adds the elements in list2 to the end of the list1. It is used to merge two lists."
   ]
  },
  {
   "cell_type": "code",
   "execution_count": 21,
   "id": "e2c7a2bb",
   "metadata": {},
   "outputs": [
    {
     "name": "stdout",
     "output_type": "stream",
     "text": [
      "[1, 2, 3, 4, 5, 'A', 'B', 'C', 'D', 'E']\n"
     ]
    }
   ],
   "source": [
    "list1 = [1, 2, 3, 4, 5]\n",
    "list2 = ['A', 'B', 'C', 'D', 'E']\n",
    "list1.extend(list2)\n",
    "print(list1)"
   ]
  },
  {
   "cell_type": "markdown",
   "id": "27b1ef6f",
   "metadata": {},
   "source": [
    "- **index():** searches for the given element from the start of the list and returns its index."
   ]
  },
  {
   "cell_type": "code",
   "execution_count": 24,
   "id": "6e11757e",
   "metadata": {},
   "outputs": [
    {
     "data": {
      "text/plain": [
       "3"
      ]
     },
     "execution_count": 24,
     "metadata": {},
     "output_type": "execute_result"
    }
   ],
   "source": [
    "list3 = [1, 2, 3, 'A', 'B', 'C']\n",
    "list3.index('A')"
   ]
  },
  {
   "cell_type": "markdown",
   "id": "b0c4f61a",
   "metadata": {},
   "source": [
    "- **remove():** searhes for the first instance of the given element and removes it."
   ]
  },
  {
   "cell_type": "code",
   "execution_count": 26,
   "id": "d2b06006",
   "metadata": {},
   "outputs": [
    {
     "name": "stdout",
     "output_type": "stream",
     "text": [
      "['A', 'B', 'D', 'E']\n"
     ]
    }
   ],
   "source": [
    "list4 = ['A', 'B', 'C', 'D', 'E']\n",
    "list4.remove('C')\n",
    "print(list4)"
   ]
  },
  {
   "cell_type": "markdown",
   "id": "2ebd8572",
   "metadata": {},
   "source": [
    "- **sort():** sorts the list in place."
   ]
  },
  {
   "cell_type": "code",
   "execution_count": 28,
   "id": "ba4b70a8",
   "metadata": {},
   "outputs": [
    {
     "name": "stdout",
     "output_type": "stream",
     "text": [
      "Before Sorting: [4, 2, 1, 5, 3]\n",
      "After Sorting: [1, 2, 3, 4, 5]\n"
     ]
    }
   ],
   "source": [
    "list5 = [4, 2, 1, 5, 3]\n",
    "print('Before Sorting:', list5)\n",
    "list5.sort()\n",
    "print('After Sorting:', list5)"
   ]
  },
  {
   "cell_type": "markdown",
   "id": "0f613016",
   "metadata": {},
   "source": [
    "- **reverse():** reverses the list in place (does not return it)."
   ]
  },
  {
   "cell_type": "code",
   "execution_count": 30,
   "id": "0485d92c",
   "metadata": {},
   "outputs": [
    {
     "name": "stdout",
     "output_type": "stream",
     "text": [
      "['E', 'D', 'C', 'B', 'A']\n"
     ]
    }
   ],
   "source": [
    "list6 = ['A', 'B', 'C', 'D', 'E']\n",
    "list6.reverse()\n",
    "print(list6)"
   ]
  },
  {
   "cell_type": "markdown",
   "id": "f1aa5fb2",
   "metadata": {},
   "source": [
    "- **pop():** removes and returns the element at the given index."
   ]
  },
  {
   "cell_type": "code",
   "execution_count": 34,
   "id": "7466dfde",
   "metadata": {},
   "outputs": [
    {
     "data": {
      "text/plain": [
       "4"
      ]
     },
     "execution_count": 34,
     "metadata": {},
     "output_type": "execute_result"
    }
   ],
   "source": [
    "list7 = ['A', 'B', 'C', 4, 5, 6, 7, 8]\n",
    "list7.pop(3)"
   ]
  },
  {
   "cell_type": "code",
   "execution_count": 35,
   "id": "0a86e867",
   "metadata": {},
   "outputs": [
    {
     "name": "stdout",
     "output_type": "stream",
     "text": [
      "['A', 'B', 'C', 5, 6, 7, 8]\n"
     ]
    }
   ],
   "source": [
    "print(list7)"
   ]
  }
 ],
 "metadata": {
  "kernelspec": {
   "display_name": "Python 3 (ipykernel)",
   "language": "python",
   "name": "python3"
  },
  "language_info": {
   "codemirror_mode": {
    "name": "ipython",
    "version": 3
   },
   "file_extension": ".py",
   "mimetype": "text/x-python",
   "name": "python",
   "nbconvert_exporter": "python",
   "pygments_lexer": "ipython3",
   "version": "3.10.2"
  }
 },
 "nbformat": 4,
 "nbformat_minor": 5
}
