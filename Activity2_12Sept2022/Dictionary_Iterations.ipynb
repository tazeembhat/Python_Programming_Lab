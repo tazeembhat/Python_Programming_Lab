{
 "cells": [
  {
   "cell_type": "markdown",
   "id": "8afcfddb",
   "metadata": {},
   "source": [
    "<div class=\"alert alert-block alert-info\">\n",
    "Notebook Created By: Tazeem Nazir\n",
    "</div>"
   ]
  },
  {
   "cell_type": "markdown",
   "id": "42224955",
   "metadata": {},
   "source": [
    "## Dictionary:\n",
    "Python's dictionaries stores data in key-value pairs. The key values are usually strings and value can be of any data type. The key value pairs are enclosed with curly braces ({ }). Each key-value pair is separated from the other using a colon (:). Dictionaries are used for fast retrieval of data. Dictionaries are mutable."
   ]
  },
  {
   "cell_type": "markdown",
   "id": "ef1860a2",
   "metadata": {},
   "source": [
    "There are multiple ways to iterate over a dictionary in python:\n",
    "- **Using items() method:** It returns the dictionary's key-value pairs."
   ]
  },
  {
   "cell_type": "code",
   "execution_count": 15,
   "id": "db7ac724",
   "metadata": {},
   "outputs": [
    {
     "name": "stdout",
     "output_type": "stream",
     "text": [
      "Goa - Panji\n",
      "Punjab - Chandigarh\n",
      "Gujarat - GandhiNagar\n",
      "Jharkhand - Ranchi\n"
     ]
    }
   ],
   "source": [
    "dict1 = {'Goa':'Panji', \n",
    "        'Punjab':'Chandigarh', \n",
    "        'Gujarat':'GandhiNagar',\n",
    "        'Jharkhand':'Ranchi'}\n",
    "for keys, values in dict1.items():\n",
    "    print(keys, '-', values)"
   ]
  },
  {
   "cell_type": "markdown",
   "id": "725a6e06",
   "metadata": {},
   "source": [
    "- **Using keys() method:** It returns a list of keys in the dictionary."
   ]
  },
  {
   "cell_type": "code",
   "execution_count": 16,
   "id": "4bb2dc49",
   "metadata": {},
   "outputs": [
    {
     "name": "stdout",
     "output_type": "stream",
     "text": [
      "Goa\n",
      "Punjab\n",
      "Gujarat\n",
      "Jharkhand\n"
     ]
    }
   ],
   "source": [
    "for keys in dict1.keys():\n",
    "    print(keys)"
   ]
  },
  {
   "cell_type": "markdown",
   "id": "dfcc83d8",
   "metadata": {},
   "source": [
    "- **Using values() method:** It returns the list of values in dictionary."
   ]
  },
  {
   "cell_type": "code",
   "execution_count": 17,
   "id": "8de6b805",
   "metadata": {},
   "outputs": [
    {
     "name": "stdout",
     "output_type": "stream",
     "text": [
      "Panji\n",
      "Chandigarh\n",
      "GandhiNagar\n",
      "Ranchi\n"
     ]
    }
   ],
   "source": [
    "for values in dict1.values():\n",
    "    print(values)"
   ]
  },
  {
   "cell_type": "markdown",
   "id": "f472836e",
   "metadata": {},
   "source": [
    "- **Iterating with Index:**The items' index can be used to iterate across the dictionary."
   ]
  },
  {
   "cell_type": "code",
   "execution_count": 18,
   "id": "d855d356",
   "metadata": {},
   "outputs": [
    {
     "name": "stdout",
     "output_type": "stream",
     "text": [
      "Goa - Panji\n",
      "Punjab - Chandigarh\n",
      "Gujarat - GandhiNagar\n",
      "Jharkhand - Ranchi\n"
     ]
    }
   ],
   "source": [
    "for i in dict1:\n",
    "    print(i, '-', dict1[i])"
   ]
  },
  {
   "cell_type": "code",
   "execution_count": null,
   "id": "f8bbea23",
   "metadata": {},
   "outputs": [],
   "source": []
  }
 ],
 "metadata": {
  "kernelspec": {
   "display_name": "Python 3 (ipykernel)",
   "language": "python",
   "name": "python3"
  },
  "language_info": {
   "codemirror_mode": {
    "name": "ipython",
    "version": 3
   },
   "file_extension": ".py",
   "mimetype": "text/x-python",
   "name": "python",
   "nbconvert_exporter": "python",
   "pygments_lexer": "ipython3",
   "version": "3.10.2"
  }
 },
 "nbformat": 4,
 "nbformat_minor": 5
}
