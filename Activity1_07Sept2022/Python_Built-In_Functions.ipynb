{
 "cells": [
  {
   "cell_type": "markdown",
   "id": "389d8b62",
   "metadata": {},
   "source": [
    "<div class=\"alert alert-block alert-info\">\n",
    "Notebook Created By: Tazeem Nazir\n",
    "</div>"
   ]
  },
  {
   "cell_type": "markdown",
   "id": "7348d8be",
   "metadata": {},
   "source": [
    "# Built-in Functions"
   ]
  },
  {
   "cell_type": "markdown",
   "id": "302eb6c3",
   "metadata": {},
   "source": [
    "**abs()** : The abs() function returns the absolute value of the given number. If the number is a complex number, abs() returns its magnitude."
   ]
  },
  {
   "cell_type": "code",
   "execution_count": 7,
   "id": "a57c7493",
   "metadata": {},
   "outputs": [
    {
     "name": "stdout",
     "output_type": "stream",
     "text": [
      "Absolute value of -2.341 = 2.341\n",
      "Magnitude (2+2j) = 2.8284271247461903\n"
     ]
    }
   ],
   "source": [
    "a = -2.341\n",
    "print(\"Absolute value of\", a, \"=\", abs(a))\n",
    "\n",
    "b = 2 + 2j\n",
    "print(\"Magnitude\", b, \"=\", abs(b))"
   ]
  },
  {
   "cell_type": "markdown",
   "id": "ba5918db",
   "metadata": {},
   "source": [
    "**len()** : It returns the length of an object."
   ]
  },
  {
   "cell_type": "code",
   "execution_count": 13,
   "id": "45c13b67",
   "metadata": {},
   "outputs": [
    {
     "name": "stdout",
     "output_type": "stream",
     "text": [
      "Length of str1 = 11\n",
      "Length of sampleList = 4\n"
     ]
    }
   ],
   "source": [
    "str1 = \"Hello World\"\n",
    "print(\"Length of str1 =\", len(str1))\n",
    "\n",
    "sampleList = [1, 2, 4, 5]\n",
    "print(\"Length of sampleList =\", len(sampleList))"
   ]
  },
  {
   "cell_type": "markdown",
   "id": "dfd1b5a0",
   "metadata": {},
   "source": [
    "**max()** : It returns the largest item in an iterable or the largest of two or more arguments."
   ]
  },
  {
   "cell_type": "code",
   "execution_count": 18,
   "id": "d6d9f00e",
   "metadata": {},
   "outputs": [
    {
     "name": "stdout",
     "output_type": "stream",
     "text": [
      "7\n",
      "3\n"
     ]
    }
   ],
   "source": [
    "list1 = [2, 5, 1, 7, 3]\n",
    "print(max(list1))\n",
    "\n",
    "a = 3\n",
    "b = 1\n",
    "print(max(a, b))"
   ]
  },
  {
   "cell_type": "markdown",
   "id": "44b57f13",
   "metadata": {},
   "source": [
    "**isalnum()** : The isalnum() method returns **True** if all characters in the string are alphanumeric (either alphabets or numbers). If not, it returns **False**."
   ]
  },
  {
   "cell_type": "code",
   "execution_count": 28,
   "id": "dc755bff",
   "metadata": {},
   "outputs": [
    {
     "name": "stdout",
     "output_type": "stream",
     "text": [
      "var1 = True\n",
      "var2 = False\n"
     ]
    }
   ],
   "source": [
    "var1= \"abcd1234\"\n",
    "print(\"var1 =\", var1.isalnum())\n",
    "\n",
    "var2 = \"Not Alphanumeric\"\n",
    "print(\"var2 =\", var2.isalnum())"
   ]
  },
  {
   "cell_type": "markdown",
   "id": "f318211b",
   "metadata": {},
   "source": [
    "**pow()** : It returns the result of the first parameter raised to the power of the second parameter."
   ]
  },
  {
   "cell_type": "code",
   "execution_count": 30,
   "id": "0c7f86e8",
   "metadata": {},
   "outputs": [
    {
     "name": "stdout",
     "output_type": "stream",
     "text": [
      "8\n"
     ]
    }
   ],
   "source": [
    "a = 2\n",
    "b = 3\n",
    "print(pow(a, b))"
   ]
  },
  {
   "cell_type": "code",
   "execution_count": null,
   "id": "3ea7829e",
   "metadata": {},
   "outputs": [],
   "source": []
  }
 ],
 "metadata": {
  "kernelspec": {
   "display_name": "Python 3 (ipykernel)",
   "language": "python",
   "name": "python3"
  },
  "language_info": {
   "codemirror_mode": {
    "name": "ipython",
    "version": 3
   },
   "file_extension": ".py",
   "mimetype": "text/x-python",
   "name": "python",
   "nbconvert_exporter": "python",
   "pygments_lexer": "ipython3",
   "version": "3.10.2"
  }
 },
 "nbformat": 4,
 "nbformat_minor": 5
}
