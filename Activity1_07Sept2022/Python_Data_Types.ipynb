{
 "cells": [
  {
   "cell_type": "markdown",
   "id": "9e2fc423",
   "metadata": {},
   "source": [
    "<div class=\"alert alert-block alert-info\">\n",
    "Notebook Created By: Tazeem Nazir\n",
    "</div>"
   ]
  },
  {
   "cell_type": "markdown",
   "id": "ac321089",
   "metadata": {},
   "source": [
    "# Data Types:"
   ]
  },
  {
   "cell_type": "markdown",
   "id": "d7c4271b",
   "metadata": {},
   "source": [
    "### Numeric Types:\n",
    "\n",
    "- int - Integer:- It contains positive and negative whole numbers (without fraction or decimal).\n",
    "- float - Floating Point Number:- It is a real number with floating point representation. It is specified by a decimal point.\n",
    "- complex - Complex Number is represented by complex class. It is specified as (real part) + (imaginary part)i.\n",
    "\n",
    "**type()**: is used to check which class a variable or a value belongs to."
   ]
  },
  {
   "cell_type": "code",
   "execution_count": 19,
   "id": "d6d82ca5",
   "metadata": {},
   "outputs": [
    {
     "name": "stdout",
     "output_type": "stream",
     "text": [
      "5 is of type  <class 'int'>\n",
      "2.5 is of type  <class 'float'>\n",
      "(1+2j) is of type  <class 'complex'>\n"
     ]
    }
   ],
   "source": [
    "a = 5\n",
    "print(a, 'is of type ', type(a))\n",
    "\n",
    "b = 2.5\n",
    "print(b, 'is of type ', type(b))\n",
    "\n",
    "c = 1+2j\n",
    "print(c, 'is of type ', type(c))"
   ]
  },
  {
   "cell_type": "markdown",
   "id": "f73b905b",
   "metadata": {},
   "source": [
    "### Sequence Type:\n",
    "- **String** :\n",
    "A string is a collection of one or more characters put in a single quote, double-quote or triple quote. In python there is no character data type, a character is a string of length one. It is represented by str class."
   ]
  },
  {
   "cell_type": "code",
   "execution_count": 20,
   "id": "8b33bd61",
   "metadata": {},
   "outputs": [
    {
     "name": "stdout",
     "output_type": "stream",
     "text": [
      "My Name is Tazeem Bhat is of type  <class 'str'>\n"
     ]
    }
   ],
   "source": [
    "str1 = \"My Name is Tazeem Bhat\"\n",
    "print(str1, \"is of type \", type(str1))"
   ]
  },
  {
   "cell_type": "markdown",
   "id": "fb8df85d",
   "metadata": {},
   "source": [
    "- **List** :\n",
    "List is a ordered collection of data. It is very flexible as the items in a list do not need to be of the same type. List is mutable."
   ]
  },
  {
   "cell_type": "code",
   "execution_count": 21,
   "id": "673533a5",
   "metadata": {},
   "outputs": [
    {
     "name": "stdout",
     "output_type": "stream",
     "text": [
      "[1, 'Hello', 17, 'Black'] is of type <class 'list'>\n",
      "[1, 'Tazeem', 17, 'Black']\n"
     ]
    }
   ],
   "source": [
    "sampleList = [1, \"Hello\", 17, \"Black\"]\n",
    "print(sampleList, \"is of type\", type(sampleList))\n",
    "\n",
    "sampleList[1] = \"Tazeem\"\n",
    "print(sampleList)"
   ]
  },
  {
   "cell_type": "markdown",
   "id": "324ba510",
   "metadata": {},
   "source": [
    "- **Tuple** :\n",
    "Tuple is also an ordered collection of Python objects. The only difference between tuple and list is that tuples are immutable i.e. tuples cannot be modified after it is created. It is represented by tuple class."
   ]
  },
  {
   "cell_type": "code",
   "execution_count": 2,
   "id": "7e20d075",
   "metadata": {},
   "outputs": [
    {
     "name": "stdout",
     "output_type": "stream",
     "text": [
      "(1, 'Hello', 17, 'Black') is of type <class 'tuple'>\n"
     ]
    },
    {
     "ename": "TypeError",
     "evalue": "'tuple' object does not support item assignment",
     "output_type": "error",
     "traceback": [
      "\u001b[1;31m---------------------------------------------------------------------------\u001b[0m",
      "\u001b[1;31mTypeError\u001b[0m                                 Traceback (most recent call last)",
      "Input \u001b[1;32mIn [2]\u001b[0m, in \u001b[0;36m<cell line: 4>\u001b[1;34m()\u001b[0m\n\u001b[0;32m      1\u001b[0m sample \u001b[38;5;241m=\u001b[39m (\u001b[38;5;241m1\u001b[39m, \u001b[38;5;124m\"\u001b[39m\u001b[38;5;124mHello\u001b[39m\u001b[38;5;124m\"\u001b[39m, \u001b[38;5;241m17\u001b[39m, \u001b[38;5;124m\"\u001b[39m\u001b[38;5;124mBlack\u001b[39m\u001b[38;5;124m\"\u001b[39m)\n\u001b[0;32m      2\u001b[0m \u001b[38;5;28mprint\u001b[39m(sample, \u001b[38;5;124m\"\u001b[39m\u001b[38;5;124mis of type\u001b[39m\u001b[38;5;124m\"\u001b[39m, \u001b[38;5;28mtype\u001b[39m(sample))\n\u001b[1;32m----> 4\u001b[0m \u001b[43msample\u001b[49m\u001b[43m[\u001b[49m\u001b[38;5;241;43m1\u001b[39;49m\u001b[43m]\u001b[49m \u001b[38;5;241m=\u001b[39m \u001b[38;5;124m\"\u001b[39m\u001b[38;5;124mTazeem\u001b[39m\u001b[38;5;124m\"\u001b[39m\n\u001b[0;32m      5\u001b[0m \u001b[38;5;28mprint\u001b[39m(sample)\n",
      "\u001b[1;31mTypeError\u001b[0m: 'tuple' object does not support item assignment"
     ]
    }
   ],
   "source": [
    "sample = (1, \"Hello\", 17, \"Black\")\n",
    "print(sample, \"is of type\", type(sample))\n",
    "\n",
    "sample[1] = \"Tazeem\"\n",
    "print(sample)\n",
    "# As the tuple is immutable, so it can't be modified"
   ]
  },
  {
   "cell_type": "markdown",
   "id": "415afcc9",
   "metadata": {},
   "source": [
    "### Dictionary:\n",
    "Dictionary is a ordered collection of data values. Dictionaries are used to store data values in key:value pairs. Dictionaries are mutable, and don't allow duplicates."
   ]
  },
  {
   "cell_type": "code",
   "execution_count": 1,
   "id": "8df2616d",
   "metadata": {},
   "outputs": [
    {
     "name": "stdout",
     "output_type": "stream",
     "text": [
      "{1: 'Blue', 2: 'Green', 3: 'Black'} is of type <class 'dict'>\n",
      "{1: 'White', 2: 'Green', 3: 'Black'}\n"
     ]
    }
   ],
   "source": [
    "# Empty Dictionary\n",
    "dict = {}\n",
    "\n",
    "# Dictionary with Integer Keys\n",
    "dict = {1:'Blue', 2:'Green', 3:'Black'}\n",
    "print(dict, 'is of type', type(dict))\n",
    "\n",
    "#Modification\n",
    "dict[1] = \"White\"\n",
    "print(dict)"
   ]
  },
  {
   "cell_type": "markdown",
   "id": "01ec20ce",
   "metadata": {},
   "source": [
    "### SET :\n",
    "A Set is an unordered collection data type that is iterable, mutable and has no duplicate elements."
   ]
  },
  {
   "cell_type": "code",
   "execution_count": 4,
   "id": "2766c226",
   "metadata": {},
   "outputs": [
    {
     "name": "stdout",
     "output_type": "stream",
     "text": [
      "{'Parrot', 'Eagle', 'Sparrow', 'Hawk'} is of type <class 'set'>\n"
     ]
    }
   ],
   "source": [
    "Birds = {\"Sparrow\", \"Parrot\", \"Eagle\", \"Hawk\"}\n",
    "print(Birds, 'is of type', type(Birds))"
   ]
  },
  {
   "cell_type": "code",
   "execution_count": null,
   "id": "a9486acf",
   "metadata": {},
   "outputs": [],
   "source": []
  }
 ],
 "metadata": {
  "kernelspec": {
   "display_name": "Python 3 (ipykernel)",
   "language": "python",
   "name": "python3"
  },
  "language_info": {
   "codemirror_mode": {
    "name": "ipython",
    "version": 3
   },
   "file_extension": ".py",
   "mimetype": "text/x-python",
   "name": "python",
   "nbconvert_exporter": "python",
   "pygments_lexer": "ipython3",
   "version": "3.10.2"
  }
 },
 "nbformat": 4,
 "nbformat_minor": 5
}
