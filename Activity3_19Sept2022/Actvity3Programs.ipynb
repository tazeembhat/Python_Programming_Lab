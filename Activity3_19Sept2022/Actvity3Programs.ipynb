{
 "cells": [
  {
   "cell_type": "markdown",
   "id": "eb458d5b",
   "metadata": {},
   "source": [
    "<div class=\"alert alert-block alert-info\">\n",
    "Notebook Created By: Tazeem Nazir\n",
    "</div>"
   ]
  },
  {
   "cell_type": "markdown",
   "id": "08ccb3ab",
   "metadata": {},
   "source": [
    "**1. Calculate the length of the string**"
   ]
  },
  {
   "cell_type": "code",
   "execution_count": 3,
   "id": "d9c36665",
   "metadata": {},
   "outputs": [
    {
     "name": "stdout",
     "output_type": "stream",
     "text": [
      "Enter the string: HelloWorld\n",
      "Length of the given string is 10\n"
     ]
    }
   ],
   "source": [
    "str1 = str(input(\"Enter the string: \"))\n",
    "print(\"Length of the given string is\", len(str1))"
   ]
  },
  {
   "cell_type": "markdown",
   "id": "b006bd6e",
   "metadata": {},
   "source": [
    "**2. Convert later part of string to uppercase**"
   ]
  },
  {
   "cell_type": "code",
   "execution_count": 7,
   "id": "d186aae6",
   "metadata": {},
   "outputs": [
    {
     "name": "stdout",
     "output_type": "stream",
     "text": [
      "tazeemBHAT\n"
     ]
    }
   ],
   "source": [
    "str2 = \"tazeembhat\"\n",
    "str3 = str2[:6]\n",
    "str4 = str2[6:].upper()\n",
    "\n",
    "print(str3 + str4)"
   ]
  },
  {
   "cell_type": "markdown",
   "id": "0c462340",
   "metadata": {},
   "source": [
    "**3. Count the number of number of alphabets in the given string**"
   ]
  },
  {
   "cell_type": "code",
   "execution_count": 8,
   "id": "14c1b457",
   "metadata": {},
   "outputs": [
    {
     "name": "stdout",
     "output_type": "stream",
     "text": [
      "Original String: TazeemRollNo.2020A1R07!!\n",
      "Number of Alphabets in string: 14\n"
     ]
    }
   ],
   "source": [
    "sampleStr = 'TazeemRollNo.2020A1R07!!'\n",
    "print('Original String:', sampleStr)\n",
    "num = len([ele for ele in sampleStr if ele.isalpha()])\n",
    "print('Number of Alphabets in string:', num)"
   ]
  },
  {
   "cell_type": "markdown",
   "id": "1bd9a9f5",
   "metadata": {},
   "source": [
    "**5. Check whether the given string is alphanumeric**"
   ]
  },
  {
   "cell_type": "code",
   "execution_count": 23,
   "id": "511c5c76",
   "metadata": {},
   "outputs": [
    {
     "name": "stdout",
     "output_type": "stream",
     "text": [
      "is alphanumeric.\n"
     ]
    }
   ],
   "source": [
    "test_str = 'Tazeem1234'\n",
    "if test_str.isalnum():\n",
    "    print('is alphanumeric.')\n",
    "else:\n",
    "    print('is not alphanumeric')"
   ]
  }
 ],
 "metadata": {
  "kernelspec": {
   "display_name": "Python 3 (ipykernel)",
   "language": "python",
   "name": "python3"
  },
  "language_info": {
   "codemirror_mode": {
    "name": "ipython",
    "version": 3
   },
   "file_extension": ".py",
   "mimetype": "text/x-python",
   "name": "python",
   "nbconvert_exporter": "python",
   "pygments_lexer": "ipython3",
   "version": "3.10.2"
  }
 },
 "nbformat": 4,
 "nbformat_minor": 5
}
