{
 "cells": [
  {
   "cell_type": "markdown",
   "id": "eb458d5b",
   "metadata": {},
   "source": [
    "<div class=\"alert alert-block alert-info\">\n",
    "Notebook Created By: Tazeem Nazir\n",
    "</div>"
   ]
  },
  {
   "cell_type": "markdown",
   "id": "5b7564fa",
   "metadata": {},
   "source": [
    "**1. Count the number of alphabets in the given string**"
   ]
  },
  {
   "cell_type": "code",
   "execution_count": 2,
   "id": "cb0c69ef",
   "metadata": {},
   "outputs": [
    {
     "name": "stdout",
     "output_type": "stream",
     "text": [
      "Original String: Welcome to Python World\n",
      "Number of Alphabets in string: 20\n"
     ]
    }
   ],
   "source": [
    "givenStr = 'Welcome to Python World'\n",
    "print('Original String:', givenStr)\n",
    "num = len([ele for ele in givenStr if ele.isalpha()])\n",
    "print('Number of Alphabets in string:', num)"
   ]
  },
  {
   "cell_type": "markdown",
   "id": "2cab13b0",
   "metadata": {},
   "source": [
    "**2. Extract the characters in the given range from the given string.**"
   ]
  },
  {
   "cell_type": "code",
   "execution_count": 6,
   "id": "841fe33f",
   "metadata": {},
   "outputs": [
    {
     "name": "stdout",
     "output_type": "stream",
     "text": [
      "Original String: Welcome to Python World\n",
      "Extracted String: Python World\n"
     ]
    }
   ],
   "source": [
    "givenStr = 'Welcome to Python World'\n",
    "print('Original String:', givenStr)\n",
    "start, end = 11, 25\n",
    "resultStr = ''.join([ele for ele in givenStr])[start:end]\n",
    "print('Extracted String:', resultStr)"
   ]
  },
  {
   "cell_type": "markdown",
   "id": "c9432348",
   "metadata": {},
   "source": [
    "**3. Check whether the given string is alphanumeric**"
   ]
  },
  {
   "cell_type": "code",
   "execution_count": 19,
   "id": "9e4c57af",
   "metadata": {},
   "outputs": [
    {
     "name": "stdout",
     "output_type": "stream",
     "text": [
      "is not alphanumeric\n"
     ]
    }
   ],
   "source": [
    "givenStr = 'Welcome to Python World'\n",
    "if givenStr.isalnum():\n",
    "    print('is alphanumeric.')\n",
    "else:\n",
    "    print('is not alphanumeric')"
   ]
  },
  {
   "cell_type": "markdown",
   "id": "08ccb3ab",
   "metadata": {},
   "source": [
    "**4. Calculate the length of the string**"
   ]
  },
  {
   "cell_type": "code",
   "execution_count": 21,
   "id": "d9c36665",
   "metadata": {
    "scrolled": true
   },
   "outputs": [
    {
     "name": "stdout",
     "output_type": "stream",
     "text": [
      "Enter the string: HelloWorld\n",
      "Length of the given string is 10\n"
     ]
    }
   ],
   "source": [
    "str1 = str(input(\"Enter the string: \"))\n",
    "print(\"Length of the given string is\", len(str1))"
   ]
  },
  {
   "cell_type": "markdown",
   "id": "b006bd6e",
   "metadata": {},
   "source": [
    "**5. Convert later part of string to uppercase**"
   ]
  },
  {
   "cell_type": "code",
   "execution_count": 22,
   "id": "d186aae6",
   "metadata": {},
   "outputs": [
    {
     "name": "stdout",
     "output_type": "stream",
     "text": [
      "tazeemBHAT\n"
     ]
    }
   ],
   "source": [
    "str2 = \"tazeembhat\"\n",
    "str3 = str2[:6]\n",
    "str4 = str2[6:].upper()\n",
    "\n",
    "print(str3 + str4)"
   ]
  }
 ],
 "metadata": {
  "kernelspec": {
   "display_name": "Python 3 (ipykernel)",
   "language": "python",
   "name": "python3"
  },
  "language_info": {
   "codemirror_mode": {
    "name": "ipython",
    "version": 3
   },
   "file_extension": ".py",
   "mimetype": "text/x-python",
   "name": "python",
   "nbconvert_exporter": "python",
   "pygments_lexer": "ipython3",
   "version": "3.10.2"
  }
 },
 "nbformat": 4,
 "nbformat_minor": 5
}
