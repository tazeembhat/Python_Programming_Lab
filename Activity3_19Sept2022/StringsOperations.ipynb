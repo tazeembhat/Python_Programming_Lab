{
 "cells": [
  {
   "cell_type": "markdown",
   "id": "08f62f57",
   "metadata": {},
   "source": [
    "<div class=\"alert alert-block alert-info\">\n",
    "Notebook Created By: Tazeem Nazir\n",
    "</div>"
   ]
  },
  {
   "cell_type": "markdown",
   "id": "678ebcff",
   "metadata": {},
   "source": [
    "## Strings:\n",
    "Python has a built-in string class name \"str\" with many handy features. String literals can be enclosed by either double or single quotes, although single quotes are more commonly used. Python strings are \"immutable\" which means they cannot be changed after they are created."
   ]
  },
  {
   "cell_type": "code",
   "execution_count": 9,
   "id": "03b66805",
   "metadata": {},
   "outputs": [
    {
     "name": "stdout",
     "output_type": "stream",
     "text": [
      "Hello World\n"
     ]
    }
   ],
   "source": [
    "# Creating String\n",
    "str1 = 'Hello World'\n",
    "print(str1)"
   ]
  },
  {
   "cell_type": "code",
   "execution_count": 10,
   "id": "e8421938",
   "metadata": {},
   "outputs": [
    {
     "data": {
      "text/plain": [
       "'a'"
      ]
     },
     "execution_count": 10,
     "metadata": {},
     "output_type": "execute_result"
    }
   ],
   "source": [
    "# Accessing string elements\n",
    "str2 = 'Learning Python'\n",
    "str2[2]"
   ]
  },
  {
   "cell_type": "code",
   "execution_count": 11,
   "id": "00c101c8",
   "metadata": {},
   "outputs": [
    {
     "data": {
      "text/plain": [
       "'Tazeem'"
      ]
     },
     "execution_count": 11,
     "metadata": {},
     "output_type": "execute_result"
    }
   ],
   "source": [
    "# Slicing\n",
    "str3 = \"My Name is Tazeem\"\n",
    "str3[11:]"
   ]
  },
  {
   "cell_type": "code",
   "execution_count": 20,
   "id": "8a41aef9",
   "metadata": {},
   "outputs": [
    {
     "data": {
      "text/plain": [
       "'olleH'"
      ]
     },
     "execution_count": 20,
     "metadata": {},
     "output_type": "execute_result"
    }
   ],
   "source": [
    "# Reverse string\n",
    "str1 = 'Hello'\n",
    "str1[::-1]"
   ]
  },
  {
   "cell_type": "code",
   "execution_count": 14,
   "id": "dc653d0b",
   "metadata": {},
   "outputs": [
    {
     "name": "stdout",
     "output_type": "stream",
     "text": [
      "I am Learning Python\n"
     ]
    }
   ],
   "source": [
    "# String Concatenation\n",
    "str1 = 'I am Learning '\n",
    "str2 = 'Python'\n",
    "text = str1 + str2\n",
    "print(text)"
   ]
  },
  {
   "cell_type": "markdown",
   "id": "7b57f885",
   "metadata": {},
   "source": [
    "**str():** It converts values to a string form so they can be combines with other strings"
   ]
  },
  {
   "cell_type": "code",
   "execution_count": 15,
   "id": "54262070",
   "metadata": {},
   "outputs": [
    {
     "name": "stdout",
     "output_type": "stream",
     "text": [
      "123456\n"
     ]
    }
   ],
   "source": [
    "num = 123\n",
    "str1 = '456'\n",
    "text = str(num) + str1\n",
    "print(text)"
   ]
  }
 ],
 "metadata": {
  "kernelspec": {
   "display_name": "Python 3 (ipykernel)",
   "language": "python",
   "name": "python3"
  },
  "language_info": {
   "codemirror_mode": {
    "name": "ipython",
    "version": 3
   },
   "file_extension": ".py",
   "mimetype": "text/x-python",
   "name": "python",
   "nbconvert_exporter": "python",
   "pygments_lexer": "ipython3",
   "version": "3.10.2"
  }
 },
 "nbformat": 4,
 "nbformat_minor": 5
}
